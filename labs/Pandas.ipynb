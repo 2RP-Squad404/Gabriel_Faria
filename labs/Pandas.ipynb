{
  "nbformat": 4,
  "nbformat_minor": 0,
  "metadata": {
    "colab": {
      "provenance": []
    },
    "kernelspec": {
      "name": "python3",
      "display_name": "Python 3"
    },
    "language_info": {
      "name": "python"
    }
  },
  "cells": [
    {
      "cell_type": "markdown",
      "source": [
        "Pandas é uma biblioteca de Python para **manipulação e análise de dados**."
      ],
      "metadata": {
        "id": "g-JxJW9bp1pZ"
      }
    },
    {
      "cell_type": "code",
      "execution_count": 1,
      "metadata": {
        "id": "achzEQ4upgwf"
      },
      "outputs": [],
      "source": [
        "# Geralmente 'pandas' é importado como 'pd'\n",
        "import pandas as pd"
      ]
    },
    {
      "cell_type": "markdown",
      "source": [
        "## Series"
      ],
      "metadata": {
        "id": "h6RX_TgNsJ-_"
      }
    },
    {
      "cell_type": "markdown",
      "source": [
        "Array uni-dimensional capaz de suportar qualquer tipo de dados (int, strings, float, objects, etc.), onde cada dado é relacionado a um índice. É similar a uma coluna em uma planilha."
      ],
      "metadata": {
        "id": "-q1-U1w7sMHX"
      }
    },
    {
      "cell_type": "code",
      "source": [
        "# Criando um Series...\n",
        "s = pd.Series([2,-1,3,5])\n",
        "print(s)\n",
        "print(type(s))"
      ],
      "metadata": {
        "colab": {
          "base_uri": "https://localhost:8080/"
        },
        "id": "jgztZGvDsLX3",
        "outputId": "6a7ffbcd-47b7-4255-8f32-1f1dfe175c09"
      },
      "execution_count": 2,
      "outputs": [
        {
          "output_type": "stream",
          "name": "stdout",
          "text": [
            "0    2\n",
            "1   -1\n",
            "2    3\n",
            "3    5\n",
            "dtype: int64\n",
            "<class 'pandas.core.series.Series'>\n"
          ]
        }
      ]
    },
    {
      "cell_type": "markdown",
      "source": [
        "Normalmente os índices são números inteiros a partir de `0` gerados automaticamente, porém é possível definir os índices à mão:"
      ],
      "metadata": {
        "id": "WsFwPBvRsqP9"
      }
    },
    {
      "cell_type": "code",
      "source": [
        "s1 = pd.Series([68, 83, 112, 68])\n",
        "# Definindo os índices manualmente\n",
        "s2 = pd.Series([68, 83, 112, 68], index=[\"alice\", \"bob\", \"charles\", \"darwin\"])\n",
        "print(s1)\n",
        "print(s2)"
      ],
      "metadata": {
        "colab": {
          "base_uri": "https://localhost:8080/"
        },
        "id": "57VuPb-Ns-VJ",
        "outputId": "5add1eea-be5c-4b20-b75b-9c7ee7682519"
      },
      "execution_count": 3,
      "outputs": [
        {
          "output_type": "stream",
          "name": "stdout",
          "text": [
            "0     68\n",
            "1     83\n",
            "2    112\n",
            "3     68\n",
            "dtype: int64\n",
            "alice       68\n",
            "bob         83\n",
            "charles    112\n",
            "darwin      68\n",
            "dtype: int64\n"
          ]
        }
      ]
    },
    {
      "cell_type": "markdown",
      "source": [
        "É possível acessar os itens de uma Series atráves do índice numérico (como um array comum) ou através do índice customizado, como um dicionário:"
      ],
      "metadata": {
        "id": "vN3gLgGvtP-y"
      }
    },
    {
      "cell_type": "code",
      "source": [
        "print(s1[2])\n",
        "print(s2['charles'])\n",
        "print(s2[2])"
      ],
      "metadata": {
        "colab": {
          "base_uri": "https://localhost:8080/"
        },
        "id": "ynsukUS_tb8W",
        "outputId": "cfca3dc5-50ed-41a4-8a75-b756c3a74dbd"
      },
      "execution_count": 4,
      "outputs": [
        {
          "output_type": "stream",
          "name": "stdout",
          "text": [
            "112\n",
            "112\n",
            "112\n"
          ]
        },
        {
          "output_type": "stream",
          "name": "stderr",
          "text": [
            "<ipython-input-4-fba32bfe76fe>:3: FutureWarning: Series.__getitem__ treating keys as positions is deprecated. In a future version, integer keys will always be treated as labels (consistent with DataFrame behavior). To access a value by position, use `ser.iloc[pos]`\n",
            "  print(s2[2])\n"
          ]
        }
      ]
    },
    {
      "cell_type": "markdown",
      "source": [
        "Para que não haja confuão, é sempre recomendado utilizar o comando `iloc` para acessar um item da Series pelo índice numérico e o comando `loc` para acessar um item via índice customizado:"
      ],
      "metadata": {
        "id": "fa6-pwEltlSj"
      }
    },
    {
      "cell_type": "code",
      "source": [
        "s1.iloc[2] # Procura 'loc' um index inteiro 'i' -> 'iloc'"
      ],
      "metadata": {
        "colab": {
          "base_uri": "https://localhost:8080/"
        },
        "id": "qvXIfnaRtzdV",
        "outputId": "82381ec2-46a6-483b-94a2-29cd973bf7d6"
      },
      "execution_count": 5,
      "outputs": [
        {
          "output_type": "execute_result",
          "data": {
            "text/plain": [
              "112"
            ]
          },
          "metadata": {},
          "execution_count": 5
        }
      ]
    },
    {
      "cell_type": "code",
      "source": [
        "s2.loc['bob'] # Procura por string, etc."
      ],
      "metadata": {
        "colab": {
          "base_uri": "https://localhost:8080/"
        },
        "id": "Q1OI3HFot5Hy",
        "outputId": "412bd827-c8e1-4858-cbc8-19036e7ffa3a"
      },
      "execution_count": 6,
      "outputs": [
        {
          "output_type": "execute_result",
          "data": {
            "text/plain": [
              "83"
            ]
          },
          "metadata": {},
          "execution_count": 6
        }
      ]
    },
    {
      "cell_type": "code",
      "source": [
        "a = s2\n",
        "s2[1] = 10\n",
        "print(s2)\n",
        "print(a) # Ao utilizar o 'iloc', a outra Series funciona como um ponteiro, ou seja, se alterar a original, altera essa também"
      ],
      "metadata": {
        "colab": {
          "base_uri": "https://localhost:8080/"
        },
        "id": "2xvs-ZKLuBqL",
        "outputId": "65c73d95-9a06-4c1f-bf63-68c5de7db4f8"
      },
      "execution_count": 8,
      "outputs": [
        {
          "output_type": "stream",
          "name": "stdout",
          "text": [
            "alice       68\n",
            "bob         10\n",
            "charles    112\n",
            "darwin      68\n",
            "dtype: int64\n",
            "alice       68\n",
            "bob         10\n",
            "charles    112\n",
            "darwin      68\n",
            "dtype: int64\n"
          ]
        },
        {
          "output_type": "stream",
          "name": "stderr",
          "text": [
            "<ipython-input-8-fee2cd2d9263>:2: FutureWarning: Series.__setitem__ treating keys as positions is deprecated. In a future version, integer keys will always be treated as labels (consistent with DataFrame behavior). To set a value by position, use `ser.iloc[pos] = value`\n",
            "  s2[1] = 10\n"
          ]
        }
      ]
    },
    {
      "cell_type": "markdown",
      "source": [
        "Mas o que muda ao utilizar o `iloc` e o `loc`?"
      ],
      "metadata": {
        "id": "NYmmx3I1uVKr"
      }
    },
    {
      "cell_type": "code",
      "source": [
        "surprise = pd.Series([1000, 1001, 1002, 1003])\n",
        "print(surprise)\n",
        "\n",
        "# Traz todos os elementos da Series 'surprise_slice' a partir do index 2\n",
        "surprise_slice = surprise[2:]\n",
        "print(surprise_slice)"
      ],
      "metadata": {
        "colab": {
          "base_uri": "https://localhost:8080/"
        },
        "id": "-4Mqv3uTudhv",
        "outputId": "551f3d42-e74e-46cf-f614-a4817947e0d4"
      },
      "execution_count": 9,
      "outputs": [
        {
          "output_type": "stream",
          "name": "stdout",
          "text": [
            "0    1000\n",
            "1    1001\n",
            "2    1002\n",
            "3    1003\n",
            "dtype: int64\n",
            "2    1002\n",
            "3    1003\n",
            "dtype: int64\n"
          ]
        }
      ]
    },
    {
      "cell_type": "code",
      "source": [
        "# Tentando acessar o primeiro elemento da nova Series:\n",
        "print(surprise_slice[0]) # Dá errado, pois quando não utiliza o iloc ao copiar a Series, copia o index junto -> dessa forma a nova Series começa com o index 2, não 0"
      ],
      "metadata": {
        "colab": {
          "base_uri": "https://localhost:8080/",
          "height": 408
        },
        "id": "xRGPZjMGunMu",
        "outputId": "50fe7549-4421-4f58-9bf1-fc0334048dc4"
      },
      "execution_count": 10,
      "outputs": [
        {
          "output_type": "error",
          "ename": "KeyError",
          "evalue": "0",
          "traceback": [
            "\u001b[0;31m---------------------------------------------------------------------------\u001b[0m",
            "\u001b[0;31mValueError\u001b[0m                                Traceback (most recent call last)",
            "\u001b[0;32m/usr/local/lib/python3.10/dist-packages/pandas/core/indexes/range.py\u001b[0m in \u001b[0;36mget_loc\u001b[0;34m(self, key)\u001b[0m\n\u001b[1;32m    413\u001b[0m             \u001b[0;32mtry\u001b[0m\u001b[0;34m:\u001b[0m\u001b[0;34m\u001b[0m\u001b[0;34m\u001b[0m\u001b[0m\n\u001b[0;32m--> 414\u001b[0;31m                 \u001b[0;32mreturn\u001b[0m \u001b[0mself\u001b[0m\u001b[0;34m.\u001b[0m\u001b[0m_range\u001b[0m\u001b[0;34m.\u001b[0m\u001b[0mindex\u001b[0m\u001b[0;34m(\u001b[0m\u001b[0mnew_key\u001b[0m\u001b[0;34m)\u001b[0m\u001b[0;34m\u001b[0m\u001b[0;34m\u001b[0m\u001b[0m\n\u001b[0m\u001b[1;32m    415\u001b[0m             \u001b[0;32mexcept\u001b[0m \u001b[0mValueError\u001b[0m \u001b[0;32mas\u001b[0m \u001b[0merr\u001b[0m\u001b[0;34m:\u001b[0m\u001b[0;34m\u001b[0m\u001b[0;34m\u001b[0m\u001b[0m\n",
            "\u001b[0;31mValueError\u001b[0m: 0 is not in range",
            "\nThe above exception was the direct cause of the following exception:\n",
            "\u001b[0;31mKeyError\u001b[0m                                  Traceback (most recent call last)",
            "\u001b[0;32m<ipython-input-10-5b459eed4c79>\u001b[0m in \u001b[0;36m<cell line: 2>\u001b[0;34m()\u001b[0m\n\u001b[1;32m      1\u001b[0m \u001b[0;31m# Tentando acessar o primeiro elemento da nova Series:\u001b[0m\u001b[0;34m\u001b[0m\u001b[0;34m\u001b[0m\u001b[0m\n\u001b[0;32m----> 2\u001b[0;31m \u001b[0mprint\u001b[0m\u001b[0;34m(\u001b[0m\u001b[0msurprise_slice\u001b[0m\u001b[0;34m[\u001b[0m\u001b[0;36m0\u001b[0m\u001b[0;34m]\u001b[0m\u001b[0;34m)\u001b[0m \u001b[0;31m# Dá errado, pois quando não utiliza o iloc ao copiar a Series, copia o index junto -> dessa forma a nova Series começa com o index 2, não 0\u001b[0m\u001b[0;34m\u001b[0m\u001b[0;34m\u001b[0m\u001b[0m\n\u001b[0m",
            "\u001b[0;32m/usr/local/lib/python3.10/dist-packages/pandas/core/series.py\u001b[0m in \u001b[0;36m__getitem__\u001b[0;34m(self, key)\u001b[0m\n\u001b[1;32m   1038\u001b[0m \u001b[0;34m\u001b[0m\u001b[0m\n\u001b[1;32m   1039\u001b[0m         \u001b[0;32melif\u001b[0m \u001b[0mkey_is_scalar\u001b[0m\u001b[0;34m:\u001b[0m\u001b[0;34m\u001b[0m\u001b[0;34m\u001b[0m\u001b[0m\n\u001b[0;32m-> 1040\u001b[0;31m             \u001b[0;32mreturn\u001b[0m \u001b[0mself\u001b[0m\u001b[0;34m.\u001b[0m\u001b[0m_get_value\u001b[0m\u001b[0;34m(\u001b[0m\u001b[0mkey\u001b[0m\u001b[0;34m)\u001b[0m\u001b[0;34m\u001b[0m\u001b[0;34m\u001b[0m\u001b[0m\n\u001b[0m\u001b[1;32m   1041\u001b[0m \u001b[0;34m\u001b[0m\u001b[0m\n\u001b[1;32m   1042\u001b[0m         \u001b[0;31m# Convert generator to list before going through hashable part\u001b[0m\u001b[0;34m\u001b[0m\u001b[0;34m\u001b[0m\u001b[0m\n",
            "\u001b[0;32m/usr/local/lib/python3.10/dist-packages/pandas/core/series.py\u001b[0m in \u001b[0;36m_get_value\u001b[0;34m(self, label, takeable)\u001b[0m\n\u001b[1;32m   1154\u001b[0m \u001b[0;34m\u001b[0m\u001b[0m\n\u001b[1;32m   1155\u001b[0m         \u001b[0;31m# Similar to Index.get_value, but we do not fall back to positional\u001b[0m\u001b[0;34m\u001b[0m\u001b[0;34m\u001b[0m\u001b[0m\n\u001b[0;32m-> 1156\u001b[0;31m         \u001b[0mloc\u001b[0m \u001b[0;34m=\u001b[0m \u001b[0mself\u001b[0m\u001b[0;34m.\u001b[0m\u001b[0mindex\u001b[0m\u001b[0;34m.\u001b[0m\u001b[0mget_loc\u001b[0m\u001b[0;34m(\u001b[0m\u001b[0mlabel\u001b[0m\u001b[0;34m)\u001b[0m\u001b[0;34m\u001b[0m\u001b[0;34m\u001b[0m\u001b[0m\n\u001b[0m\u001b[1;32m   1157\u001b[0m \u001b[0;34m\u001b[0m\u001b[0m\n\u001b[1;32m   1158\u001b[0m         \u001b[0;32mif\u001b[0m \u001b[0mis_integer\u001b[0m\u001b[0;34m(\u001b[0m\u001b[0mloc\u001b[0m\u001b[0;34m)\u001b[0m\u001b[0;34m:\u001b[0m\u001b[0;34m\u001b[0m\u001b[0;34m\u001b[0m\u001b[0m\n",
            "\u001b[0;32m/usr/local/lib/python3.10/dist-packages/pandas/core/indexes/range.py\u001b[0m in \u001b[0;36mget_loc\u001b[0;34m(self, key)\u001b[0m\n\u001b[1;32m    414\u001b[0m                 \u001b[0;32mreturn\u001b[0m \u001b[0mself\u001b[0m\u001b[0;34m.\u001b[0m\u001b[0m_range\u001b[0m\u001b[0;34m.\u001b[0m\u001b[0mindex\u001b[0m\u001b[0;34m(\u001b[0m\u001b[0mnew_key\u001b[0m\u001b[0;34m)\u001b[0m\u001b[0;34m\u001b[0m\u001b[0;34m\u001b[0m\u001b[0m\n\u001b[1;32m    415\u001b[0m             \u001b[0;32mexcept\u001b[0m \u001b[0mValueError\u001b[0m \u001b[0;32mas\u001b[0m \u001b[0merr\u001b[0m\u001b[0;34m:\u001b[0m\u001b[0;34m\u001b[0m\u001b[0;34m\u001b[0m\u001b[0m\n\u001b[0;32m--> 416\u001b[0;31m                 \u001b[0;32mraise\u001b[0m \u001b[0mKeyError\u001b[0m\u001b[0;34m(\u001b[0m\u001b[0mkey\u001b[0m\u001b[0;34m)\u001b[0m \u001b[0;32mfrom\u001b[0m \u001b[0merr\u001b[0m\u001b[0;34m\u001b[0m\u001b[0;34m\u001b[0m\u001b[0m\n\u001b[0m\u001b[1;32m    417\u001b[0m         \u001b[0;32mif\u001b[0m \u001b[0misinstance\u001b[0m\u001b[0;34m(\u001b[0m\u001b[0mkey\u001b[0m\u001b[0;34m,\u001b[0m \u001b[0mHashable\u001b[0m\u001b[0;34m)\u001b[0m\u001b[0;34m:\u001b[0m\u001b[0;34m\u001b[0m\u001b[0;34m\u001b[0m\u001b[0m\n\u001b[1;32m    418\u001b[0m             \u001b[0;32mraise\u001b[0m \u001b[0mKeyError\u001b[0m\u001b[0;34m(\u001b[0m\u001b[0mkey\u001b[0m\u001b[0;34m)\u001b[0m\u001b[0;34m\u001b[0m\u001b[0;34m\u001b[0m\u001b[0m\n",
            "\u001b[0;31mKeyError\u001b[0m: 0"
          ]
        }
      ]
    },
    {
      "cell_type": "code",
      "source": [
        "# Usando o 'iloc':\n",
        "print(surprise_slice.iloc[0]) # O iloc ignora o índice a esquerda da Series"
      ],
      "metadata": {
        "colab": {
          "base_uri": "https://localhost:8080/"
        },
        "id": "SzfUy5TEuxuD",
        "outputId": "305b250c-bad6-422b-f7f5-6565682b7256"
      },
      "execution_count": 11,
      "outputs": [
        {
          "output_type": "stream",
          "name": "stdout",
          "text": [
            "1002\n"
          ]
        }
      ]
    },
    {
      "cell_type": "markdown",
      "source": [
        "Series do pandas possuem seu próprio método `plot`! Tornando a visualização de dados em uma Series muito prática!"
      ],
      "metadata": {
        "id": "gFYldJymvF31"
      }
    },
    {
      "cell_type": "code",
      "source": [
        "# Importando maplotlib (plota gráficos em python)\n",
        "import matplotlib.pyplot as plt\n",
        "temperatures = [4.4,5.1,6.1,6.2,6.1,6.1,5.7,5.2,4.7,4.1,3.9,3.5]\n",
        "\n",
        "# Cria uma Series a partir de um array\n",
        "s7 = pd.Series(temperatures)\n",
        "s7.plot() # Plota a series como método padrão do pandas\n",
        "plt.show() # Exibe o gráfico"
      ],
      "metadata": {
        "colab": {
          "base_uri": "https://localhost:8080/",
          "height": 430
        },
        "id": "ovXknZjYvUKS",
        "outputId": "87896689-2ebf-4afe-d133-ac6c2ab96316"
      },
      "execution_count": 12,
      "outputs": [
        {
          "output_type": "display_data",
          "data": {
            "text/plain": [
              "<Figure size 640x480 with 1 Axes>"
            ],
            "image/png": "[encoded data removed]"
          },
          "metadata": {}
        }
      ]
    },
    {
      "cell_type": "markdown",
      "source": [
        "## Dataframes"
      ],
      "metadata": {
        "id": "answbD8nvxz-"
      }
    },
    {
      "cell_type": "markdown",
      "source": [
        "É possível criar um DataFrame a partir de um dicionário de objetos `Series`."
      ],
      "metadata": {
        "id": "9QFCkEGwzeBV"
      }
    },
    {
      "cell_type": "code",
      "source": [
        "people_dict = {\n",
        "    \"weight\": pd.Series([68, 83, 112, 54, 75, 102], index=[\"João\", \"Maria\", \"José\", \"Pedro\", \"Daniela\", \"Antonio\"]),\n",
        "    \"birthyear\": pd.Series([1984, 1985, 1992, 1954, 1998, 2001], index=[\"João\", \"Maria\", \"José\", \"Pedro\", \"Daniela\", \"Antonio\"], name=\"year\"),\n",
        "    \"children\": pd.Series([0, 3, 1, 0], index=[\"Maria\", \"Pedro\", \"José\", \"João\"]),\n",
        "    \"hobby\": pd.Series([\"Biking\", \"Dancing\", \"Surf\", \"Piano\", \"Opera\"], index=[\"Daniela\", \"Antonio\", \"Maria\", \"José\", \"Pedro\"]),\n",
        "    \"bank account\": pd.Series([23423.00343, -3423.11345, -23.02342, 233.44453, 198344.0233, -3.0012], index=[\"Pedro\", \"Antonio\", \"Daniela\", \"Maria\", \"João\", \"José\"]),\n",
        "}\n",
        "df = pd.DataFrame(people_dict)\n",
        "print(df)"
      ],
      "metadata": {
        "colab": {
          "base_uri": "https://localhost:8080/"
        },
        "id": "HjO_aFOMzdUK",
        "outputId": "d191a47c-28ee-488c-8f23-af7f5581364c"
      },
      "execution_count": 14,
      "outputs": [
        {
          "output_type": "stream",
          "name": "stdout",
          "text": [
            "         weight  birthyear  children    hobby  bank account\n",
            "Antonio     102       2001       NaN  Dancing   -3423.11345\n",
            "Daniela      75       1998       NaN   Biking     -23.02342\n",
            "José        112       1992       1.0    Piano      -3.00120\n",
            "João         68       1984       0.0      NaN  198344.02330\n",
            "Maria        83       1985       0.0     Surf     233.44453\n",
            "Pedro        54       1954       3.0    Opera   23423.00343\n"
          ]
        }
      ]
    },
    {
      "cell_type": "markdown",
      "source": [
        "Se você passar uma lista de colunas / index das linhas para o construtor do DataFrame, será assegurado que somente essas colunas / linhas irão existir."
      ],
      "metadata": {
        "id": "Dr5uZgygzF4c"
      }
    },
    {
      "cell_type": "code",
      "source": [
        "df2 = pd.DataFrame(people_dict,columns=['birthyear','weight','height'],index=['João','Pedro','Daniela'])\n",
        "print(df2)"
      ],
      "metadata": {
        "colab": {
          "base_uri": "https://localhost:8080/"
        },
        "id": "_mAT2pezzVzM",
        "outputId": "5093c4f0-6938-4afc-b9ea-d65793e399e5"
      },
      "execution_count": 16,
      "outputs": [
        {
          "output_type": "stream",
          "name": "stdout",
          "text": [
            "         birthyear  weight height\n",
            "João          1984      68    NaN\n",
            "Pedro         1954      54    NaN\n",
            "Daniela       1998      75    NaN\n"
          ]
        }
      ]
    },
    {
      "cell_type": "markdown",
      "source": [
        "É possível exibir DataFrames estilizados pela propriedade `DataFrame.syle`, utilizando CSS.\n",
        "\n",
        "Exemplos:"
      ],
      "metadata": {
        "id": "GCrKcgJI0KoA"
      }
    },
    {
      "cell_type": "code",
      "source": [
        "df.style.format({'bank account': '{:.2f}'}) # 2 casas decimais nessa coluna"
      ],
      "metadata": {
        "colab": {
          "base_uri": "https://localhost:8080/",
          "height": 237
        },
        "id": "4E5Sd7Nx0f1P",
        "outputId": "47ed5cef-dfaa-40c9-f86b-21cb4b64f93f"
      },
      "execution_count": 17,
      "outputs": [
        {
          "output_type": "execute_result",
          "data": {
            "text/plain": [
              "<pandas.io.formats.style.Styler at 0x7e21169033d0>"
            ],
            "text/html": [
              "<style type=\"text/css\">\n",
              "</style>\n",
              "<table id=\"T_7de05\" class=\"dataframe\">\n",
              "  <thead>\n",
              "    <tr>\n",
              "      <th class=\"blank level0\" >&nbsp;</th>\n",
              "      <th id=\"T_7de05_level0_col0\" class=\"col_heading level0 col0\" >weight</th>\n",
              "      <th id=\"T_7de05_level0_col1\" class=\"col_heading level0 col1\" >birthyear</th>\n",
              "      <th id=\"T_7de05_level0_col2\" class=\"col_heading level0 col2\" >children</th>\n",
              "      <th id=\"T_7de05_level0_col3\" class=\"col_heading level0 col3\" >hobby</th>\n",
              "      <th id=\"T_7de05_level0_col4\" class=\"col_heading level0 col4\" >bank account</th>\n",
              "    </tr>\n",
              "  </thead>\n",
              "  <tbody>\n",
              "    <tr>\n",
              "      <th id=\"T_7de05_level0_row0\" class=\"row_heading level0 row0\" >Antonio</th>\n",
              "      <td id=\"T_7de05_row0_col0\" class=\"data row0 col0\" >102</td>\n",
              "      <td id=\"T_7de05_row0_col1\" class=\"data row0 col1\" >2001</td>\n",
              "      <td id=\"T_7de05_row0_col2\" class=\"data row0 col2\" >nan</td>\n",
              "      <td id=\"T_7de05_row0_col3\" class=\"data row0 col3\" >Dancing</td>\n",
              "      <td id=\"T_7de05_row0_col4\" class=\"data row0 col4\" >-3423.11</td>\n",
              "    </tr>\n",
              "    <tr>\n",
              "      <th id=\"T_7de05_level0_row1\" class=\"row_heading level0 row1\" >Daniela</th>\n",
              "      <td id=\"T_7de05_row1_col0\" class=\"data row1 col0\" >75</td>\n",
              "      <td id=\"T_7de05_row1_col1\" class=\"data row1 col1\" >1998</td>\n",
              "      <td id=\"T_7de05_row1_col2\" class=\"data row1 col2\" >nan</td>\n",
              "      <td id=\"T_7de05_row1_col3\" class=\"data row1 col3\" >Biking</td>\n",
              "      <td id=\"T_7de05_row1_col4\" class=\"data row1 col4\" >-23.02</td>\n",
              "    </tr>\n",
              "    <tr>\n",
              "      <th id=\"T_7de05_level0_row2\" class=\"row_heading level0 row2\" >José</th>\n",
              "      <td id=\"T_7de05_row2_col0\" class=\"data row2 col0\" >112</td>\n",
              "      <td id=\"T_7de05_row2_col1\" class=\"data row2 col1\" >1992</td>\n",
              "      <td id=\"T_7de05_row2_col2\" class=\"data row2 col2\" >1.000000</td>\n",
              "      <td id=\"T_7de05_row2_col3\" class=\"data row2 col3\" >Piano</td>\n",
              "      <td id=\"T_7de05_row2_col4\" class=\"data row2 col4\" >-3.00</td>\n",
              "    </tr>\n",
              "    <tr>\n",
              "      <th id=\"T_7de05_level0_row3\" class=\"row_heading level0 row3\" >João</th>\n",
              "      <td id=\"T_7de05_row3_col0\" class=\"data row3 col0\" >68</td>\n",
              "      <td id=\"T_7de05_row3_col1\" class=\"data row3 col1\" >1984</td>\n",
              "      <td id=\"T_7de05_row3_col2\" class=\"data row3 col2\" >0.000000</td>\n",
              "      <td id=\"T_7de05_row3_col3\" class=\"data row3 col3\" >nan</td>\n",
              "      <td id=\"T_7de05_row3_col4\" class=\"data row3 col4\" >198344.02</td>\n",
              "    </tr>\n",
              "    <tr>\n",
              "      <th id=\"T_7de05_level0_row4\" class=\"row_heading level0 row4\" >Maria</th>\n",
              "      <td id=\"T_7de05_row4_col0\" class=\"data row4 col0\" >83</td>\n",
              "      <td id=\"T_7de05_row4_col1\" class=\"data row4 col1\" >1985</td>\n",
              "      <td id=\"T_7de05_row4_col2\" class=\"data row4 col2\" >0.000000</td>\n",
              "      <td id=\"T_7de05_row4_col3\" class=\"data row4 col3\" >Surf</td>\n",
              "      <td id=\"T_7de05_row4_col4\" class=\"data row4 col4\" >233.44</td>\n",
              "    </tr>\n",
              "    <tr>\n",
              "      <th id=\"T_7de05_level0_row5\" class=\"row_heading level0 row5\" >Pedro</th>\n",
              "      <td id=\"T_7de05_row5_col0\" class=\"data row5 col0\" >54</td>\n",
              "      <td id=\"T_7de05_row5_col1\" class=\"data row5 col1\" >1954</td>\n",
              "      <td id=\"T_7de05_row5_col2\" class=\"data row5 col2\" >3.000000</td>\n",
              "      <td id=\"T_7de05_row5_col3\" class=\"data row5 col3\" >Opera</td>\n",
              "      <td id=\"T_7de05_row5_col4\" class=\"data row5 col4\" >23423.00</td>\n",
              "    </tr>\n",
              "  </tbody>\n",
              "</table>\n"
            ]
          },
          "metadata": {},
          "execution_count": 17
        }
      ]
    },
    {
      "cell_type": "code",
      "source": [
        "df_slice = df[['weight','birthyear','children','bank account']]\n",
        "df_slice.style.highlight_max(color='yellow') # Deixa os números máximos da tabela destacados em amarelo"
      ],
      "metadata": {
        "colab": {
          "base_uri": "https://localhost:8080/",
          "height": 237
        },
        "id": "gamAw2fO0kSZ",
        "outputId": "7b411c08-10e6-47dd-b41e-1498b57265ba"
      },
      "execution_count": 18,
      "outputs": [
        {
          "output_type": "execute_result",
          "data": {
            "text/plain": [
              "<pandas.io.formats.style.Styler at 0x7e211689efe0>"
            ],
            "text/html": [
              "<style type=\"text/css\">\n",
              "#T_d82a5_row0_col1, #T_d82a5_row2_col0, #T_d82a5_row3_col3, #T_d82a5_row5_col2 {\n",
              "  background-color: yellow;\n",
              "}\n",
              "</style>\n",
              "<table id=\"T_d82a5\" class=\"dataframe\">\n",
              "  <thead>\n",
              "    <tr>\n",
              "      <th class=\"blank level0\" >&nbsp;</th>\n",
              "      <th id=\"T_d82a5_level0_col0\" class=\"col_heading level0 col0\" >weight</th>\n",
              "      <th id=\"T_d82a5_level0_col1\" class=\"col_heading level0 col1\" >birthyear</th>\n",
              "      <th id=\"T_d82a5_level0_col2\" class=\"col_heading level0 col2\" >children</th>\n",
              "      <th id=\"T_d82a5_level0_col3\" class=\"col_heading level0 col3\" >bank account</th>\n",
              "    </tr>\n",
              "  </thead>\n",
              "  <tbody>\n",
              "    <tr>\n",
              "      <th id=\"T_d82a5_level0_row0\" class=\"row_heading level0 row0\" >Antonio</th>\n",
              "      <td id=\"T_d82a5_row0_col0\" class=\"data row0 col0\" >102</td>\n",
              "      <td id=\"T_d82a5_row0_col1\" class=\"data row0 col1\" >2001</td>\n",
              "      <td id=\"T_d82a5_row0_col2\" class=\"data row0 col2\" >nan</td>\n",
              "      <td id=\"T_d82a5_row0_col3\" class=\"data row0 col3\" >-3423.113450</td>\n",
              "    </tr>\n",
              "    <tr>\n",
              "      <th id=\"T_d82a5_level0_row1\" class=\"row_heading level0 row1\" >Daniela</th>\n",
              "      <td id=\"T_d82a5_row1_col0\" class=\"data row1 col0\" >75</td>\n",
              "      <td id=\"T_d82a5_row1_col1\" class=\"data row1 col1\" >1998</td>\n",
              "      <td id=\"T_d82a5_row1_col2\" class=\"data row1 col2\" >nan</td>\n",
              "      <td id=\"T_d82a5_row1_col3\" class=\"data row1 col3\" >-23.023420</td>\n",
              "    </tr>\n",
              "    <tr>\n",
              "      <th id=\"T_d82a5_level0_row2\" class=\"row_heading level0 row2\" >José</th>\n",
              "      <td id=\"T_d82a5_row2_col0\" class=\"data row2 col0\" >112</td>\n",
              "      <td id=\"T_d82a5_row2_col1\" class=\"data row2 col1\" >1992</td>\n",
              "      <td id=\"T_d82a5_row2_col2\" class=\"data row2 col2\" >1.000000</td>\n",
              "      <td id=\"T_d82a5_row2_col3\" class=\"data row2 col3\" >-3.001200</td>\n",
              "    </tr>\n",
              "    <tr>\n",
              "      <th id=\"T_d82a5_level0_row3\" class=\"row_heading level0 row3\" >João</th>\n",
              "      <td id=\"T_d82a5_row3_col0\" class=\"data row3 col0\" >68</td>\n",
              "      <td id=\"T_d82a5_row3_col1\" class=\"data row3 col1\" >1984</td>\n",
              "      <td id=\"T_d82a5_row3_col2\" class=\"data row3 col2\" >0.000000</td>\n",
              "      <td id=\"T_d82a5_row3_col3\" class=\"data row3 col3\" >198344.023300</td>\n",
              "    </tr>\n",
              "    <tr>\n",
              "      <th id=\"T_d82a5_level0_row4\" class=\"row_heading level0 row4\" >Maria</th>\n",
              "      <td id=\"T_d82a5_row4_col0\" class=\"data row4 col0\" >83</td>\n",
              "      <td id=\"T_d82a5_row4_col1\" class=\"data row4 col1\" >1985</td>\n",
              "      <td id=\"T_d82a5_row4_col2\" class=\"data row4 col2\" >0.000000</td>\n",
              "      <td id=\"T_d82a5_row4_col3\" class=\"data row4 col3\" >233.444530</td>\n",
              "    </tr>\n",
              "    <tr>\n",
              "      <th id=\"T_d82a5_level0_row5\" class=\"row_heading level0 row5\" >Pedro</th>\n",
              "      <td id=\"T_d82a5_row5_col0\" class=\"data row5 col0\" >54</td>\n",
              "      <td id=\"T_d82a5_row5_col1\" class=\"data row5 col1\" >1954</td>\n",
              "      <td id=\"T_d82a5_row5_col2\" class=\"data row5 col2\" >3.000000</td>\n",
              "      <td id=\"T_d82a5_row5_col3\" class=\"data row5 col3\" >23423.003430</td>\n",
              "    </tr>\n",
              "  </tbody>\n",
              "</table>\n"
            ]
          },
          "metadata": {},
          "execution_count": 18
        }
      ]
    },
    {
      "cell_type": "code",
      "source": [
        "# Aplicando mais de um destaque\n",
        "df_slice = df[['weight','birthyear','children','bank account']]\n",
        "df_slice.style.highlight_min(color='red').highlight_max(color='lime')"
      ],
      "metadata": {
        "colab": {
          "base_uri": "https://localhost:8080/",
          "height": 237
        },
        "id": "mAz3j0uj0x5E",
        "outputId": "01e25e85-80bd-4fb0-abea-a175fa70e62a"
      },
      "execution_count": 19,
      "outputs": [
        {
          "output_type": "execute_result",
          "data": {
            "text/plain": [
              "<pandas.io.formats.style.Styler at 0x7e211665f670>"
            ],
            "text/html": [
              "<style type=\"text/css\">\n",
              "#T_68eab_row0_col1, #T_68eab_row2_col0, #T_68eab_row3_col3, #T_68eab_row5_col2 {\n",
              "  background-color: lime;\n",
              "}\n",
              "#T_68eab_row0_col3, #T_68eab_row3_col2, #T_68eab_row4_col2, #T_68eab_row5_col0, #T_68eab_row5_col1 {\n",
              "  background-color: red;\n",
              "}\n",
              "</style>\n",
              "<table id=\"T_68eab\" class=\"dataframe\">\n",
              "  <thead>\n",
              "    <tr>\n",
              "      <th class=\"blank level0\" >&nbsp;</th>\n",
              "      <th id=\"T_68eab_level0_col0\" class=\"col_heading level0 col0\" >weight</th>\n",
              "      <th id=\"T_68eab_level0_col1\" class=\"col_heading level0 col1\" >birthyear</th>\n",
              "      <th id=\"T_68eab_level0_col2\" class=\"col_heading level0 col2\" >children</th>\n",
              "      <th id=\"T_68eab_level0_col3\" class=\"col_heading level0 col3\" >bank account</th>\n",
              "    </tr>\n",
              "  </thead>\n",
              "  <tbody>\n",
              "    <tr>\n",
              "      <th id=\"T_68eab_level0_row0\" class=\"row_heading level0 row0\" >Antonio</th>\n",
              "      <td id=\"T_68eab_row0_col0\" class=\"data row0 col0\" >102</td>\n",
              "      <td id=\"T_68eab_row0_col1\" class=\"data row0 col1\" >2001</td>\n",
              "      <td id=\"T_68eab_row0_col2\" class=\"data row0 col2\" >nan</td>\n",
              "      <td id=\"T_68eab_row0_col3\" class=\"data row0 col3\" >-3423.113450</td>\n",
              "    </tr>\n",
              "    <tr>\n",
              "      <th id=\"T_68eab_level0_row1\" class=\"row_heading level0 row1\" >Daniela</th>\n",
              "      <td id=\"T_68eab_row1_col0\" class=\"data row1 col0\" >75</td>\n",
              "      <td id=\"T_68eab_row1_col1\" class=\"data row1 col1\" >1998</td>\n",
              "      <td id=\"T_68eab_row1_col2\" class=\"data row1 col2\" >nan</td>\n",
              "      <td id=\"T_68eab_row1_col3\" class=\"data row1 col3\" >-23.023420</td>\n",
              "    </tr>\n",
              "    <tr>\n",
              "      <th id=\"T_68eab_level0_row2\" class=\"row_heading level0 row2\" >José</th>\n",
              "      <td id=\"T_68eab_row2_col0\" class=\"data row2 col0\" >112</td>\n",
              "      <td id=\"T_68eab_row2_col1\" class=\"data row2 col1\" >1992</td>\n",
              "      <td id=\"T_68eab_row2_col2\" class=\"data row2 col2\" >1.000000</td>\n",
              "      <td id=\"T_68eab_row2_col3\" class=\"data row2 col3\" >-3.001200</td>\n",
              "    </tr>\n",
              "    <tr>\n",
              "      <th id=\"T_68eab_level0_row3\" class=\"row_heading level0 row3\" >João</th>\n",
              "      <td id=\"T_68eab_row3_col0\" class=\"data row3 col0\" >68</td>\n",
              "      <td id=\"T_68eab_row3_col1\" class=\"data row3 col1\" >1984</td>\n",
              "      <td id=\"T_68eab_row3_col2\" class=\"data row3 col2\" >0.000000</td>\n",
              "      <td id=\"T_68eab_row3_col3\" class=\"data row3 col3\" >198344.023300</td>\n",
              "    </tr>\n",
              "    <tr>\n",
              "      <th id=\"T_68eab_level0_row4\" class=\"row_heading level0 row4\" >Maria</th>\n",
              "      <td id=\"T_68eab_row4_col0\" class=\"data row4 col0\" >83</td>\n",
              "      <td id=\"T_68eab_row4_col1\" class=\"data row4 col1\" >1985</td>\n",
              "      <td id=\"T_68eab_row4_col2\" class=\"data row4 col2\" >0.000000</td>\n",
              "      <td id=\"T_68eab_row4_col3\" class=\"data row4 col3\" >233.444530</td>\n",
              "    </tr>\n",
              "    <tr>\n",
              "      <th id=\"T_68eab_level0_row5\" class=\"row_heading level0 row5\" >Pedro</th>\n",
              "      <td id=\"T_68eab_row5_col0\" class=\"data row5 col0\" >54</td>\n",
              "      <td id=\"T_68eab_row5_col1\" class=\"data row5 col1\" >1954</td>\n",
              "      <td id=\"T_68eab_row5_col2\" class=\"data row5 col2\" >3.000000</td>\n",
              "      <td id=\"T_68eab_row5_col3\" class=\"data row5 col3\" >23423.003430</td>\n",
              "    </tr>\n",
              "  </tbody>\n",
              "</table>\n"
            ]
          },
          "metadata": {},
          "execution_count": 19
        }
      ]
    },
    {
      "cell_type": "code",
      "source": [
        "# Usando tons gradientes:\n",
        "df.style.background_gradient(cmap='Blues') # Deixa as cores gradientes com tons de 'azuis' -> 'Blues'"
      ],
      "metadata": {
        "colab": {
          "base_uri": "https://localhost:8080/",
          "height": 237
        },
        "id": "J2PwuaJ906k0",
        "outputId": "648fa5a4-3b71-424b-9272-5f2cbf6cadb7"
      },
      "execution_count": 20,
      "outputs": [
        {
          "output_type": "execute_result",
          "data": {
            "text/plain": [
              "<pandas.io.formats.style.Styler at 0x7e211653e920>"
            ],
            "text/html": [
              "<style type=\"text/css\">\n",
              "#T_038b5_row0_col0 {\n",
              "  background-color: #125da6;\n",
              "  color: #f1f1f1;\n",
              "}\n",
              "#T_038b5_row0_col1, #T_038b5_row2_col0, #T_038b5_row3_col4, #T_038b5_row5_col2 {\n",
              "  background-color: #08306b;\n",
              "  color: #f1f1f1;\n",
              "}\n",
              "#T_038b5_row0_col2, #T_038b5_row1_col2 {\n",
              "  background-color: #000000;\n",
              "  color: #f1f1f1;\n",
              "}\n",
              "#T_038b5_row0_col4, #T_038b5_row3_col2, #T_038b5_row4_col2, #T_038b5_row5_col0, #T_038b5_row5_col1 {\n",
              "  background-color: #f7fbff;\n",
              "  color: #000000;\n",
              "}\n",
              "#T_038b5_row1_col0 {\n",
              "  background-color: #a3cce3;\n",
              "  color: #000000;\n",
              "}\n",
              "#T_038b5_row1_col1 {\n",
              "  background-color: #084184;\n",
              "  color: #f1f1f1;\n",
              "}\n",
              "#T_038b5_row1_col4, #T_038b5_row2_col4, #T_038b5_row4_col4 {\n",
              "  background-color: #f4f9fe;\n",
              "  color: #000000;\n",
              "}\n",
              "#T_038b5_row2_col1 {\n",
              "  background-color: #1562a9;\n",
              "  color: #f1f1f1;\n",
              "}\n",
              "#T_038b5_row2_col2 {\n",
              "  background-color: #abd0e6;\n",
              "  color: #000000;\n",
              "}\n",
              "#T_038b5_row3_col0 {\n",
              "  background-color: #c8dcf0;\n",
              "  color: #000000;\n",
              "}\n",
              "#T_038b5_row3_col1 {\n",
              "  background-color: #3e8ec4;\n",
              "  color: #f1f1f1;\n",
              "}\n",
              "#T_038b5_row4_col0 {\n",
              "  background-color: #6aaed6;\n",
              "  color: #f1f1f1;\n",
              "}\n",
              "#T_038b5_row4_col1 {\n",
              "  background-color: #3989c1;\n",
              "  color: #f1f1f1;\n",
              "}\n",
              "#T_038b5_row5_col4 {\n",
              "  background-color: #dceaf6;\n",
              "  color: #000000;\n",
              "}\n",
              "</style>\n",
              "<table id=\"T_038b5\" class=\"dataframe\">\n",
              "  <thead>\n",
              "    <tr>\n",
              "      <th class=\"blank level0\" >&nbsp;</th>\n",
              "      <th id=\"T_038b5_level0_col0\" class=\"col_heading level0 col0\" >weight</th>\n",
              "      <th id=\"T_038b5_level0_col1\" class=\"col_heading level0 col1\" >birthyear</th>\n",
              "      <th id=\"T_038b5_level0_col2\" class=\"col_heading level0 col2\" >children</th>\n",
              "      <th id=\"T_038b5_level0_col3\" class=\"col_heading level0 col3\" >hobby</th>\n",
              "      <th id=\"T_038b5_level0_col4\" class=\"col_heading level0 col4\" >bank account</th>\n",
              "    </tr>\n",
              "  </thead>\n",
              "  <tbody>\n",
              "    <tr>\n",
              "      <th id=\"T_038b5_level0_row0\" class=\"row_heading level0 row0\" >Antonio</th>\n",
              "      <td id=\"T_038b5_row0_col0\" class=\"data row0 col0\" >102</td>\n",
              "      <td id=\"T_038b5_row0_col1\" class=\"data row0 col1\" >2001</td>\n",
              "      <td id=\"T_038b5_row0_col2\" class=\"data row0 col2\" >nan</td>\n",
              "      <td id=\"T_038b5_row0_col3\" class=\"data row0 col3\" >Dancing</td>\n",
              "      <td id=\"T_038b5_row0_col4\" class=\"data row0 col4\" >-3423.113450</td>\n",
              "    </tr>\n",
              "    <tr>\n",
              "      <th id=\"T_038b5_level0_row1\" class=\"row_heading level0 row1\" >Daniela</th>\n",
              "      <td id=\"T_038b5_row1_col0\" class=\"data row1 col0\" >75</td>\n",
              "      <td id=\"T_038b5_row1_col1\" class=\"data row1 col1\" >1998</td>\n",
              "      <td id=\"T_038b5_row1_col2\" class=\"data row1 col2\" >nan</td>\n",
              "      <td id=\"T_038b5_row1_col3\" class=\"data row1 col3\" >Biking</td>\n",
              "      <td id=\"T_038b5_row1_col4\" class=\"data row1 col4\" >-23.023420</td>\n",
              "    </tr>\n",
              "    <tr>\n",
              "      <th id=\"T_038b5_level0_row2\" class=\"row_heading level0 row2\" >José</th>\n",
              "      <td id=\"T_038b5_row2_col0\" class=\"data row2 col0\" >112</td>\n",
              "      <td id=\"T_038b5_row2_col1\" class=\"data row2 col1\" >1992</td>\n",
              "      <td id=\"T_038b5_row2_col2\" class=\"data row2 col2\" >1.000000</td>\n",
              "      <td id=\"T_038b5_row2_col3\" class=\"data row2 col3\" >Piano</td>\n",
              "      <td id=\"T_038b5_row2_col4\" class=\"data row2 col4\" >-3.001200</td>\n",
              "    </tr>\n",
              "    <tr>\n",
              "      <th id=\"T_038b5_level0_row3\" class=\"row_heading level0 row3\" >João</th>\n",
              "      <td id=\"T_038b5_row3_col0\" class=\"data row3 col0\" >68</td>\n",
              "      <td id=\"T_038b5_row3_col1\" class=\"data row3 col1\" >1984</td>\n",
              "      <td id=\"T_038b5_row3_col2\" class=\"data row3 col2\" >0.000000</td>\n",
              "      <td id=\"T_038b5_row3_col3\" class=\"data row3 col3\" >nan</td>\n",
              "      <td id=\"T_038b5_row3_col4\" class=\"data row3 col4\" >198344.023300</td>\n",
              "    </tr>\n",
              "    <tr>\n",
              "      <th id=\"T_038b5_level0_row4\" class=\"row_heading level0 row4\" >Maria</th>\n",
              "      <td id=\"T_038b5_row4_col0\" class=\"data row4 col0\" >83</td>\n",
              "      <td id=\"T_038b5_row4_col1\" class=\"data row4 col1\" >1985</td>\n",
              "      <td id=\"T_038b5_row4_col2\" class=\"data row4 col2\" >0.000000</td>\n",
              "      <td id=\"T_038b5_row4_col3\" class=\"data row4 col3\" >Surf</td>\n",
              "      <td id=\"T_038b5_row4_col4\" class=\"data row4 col4\" >233.444530</td>\n",
              "    </tr>\n",
              "    <tr>\n",
              "      <th id=\"T_038b5_level0_row5\" class=\"row_heading level0 row5\" >Pedro</th>\n",
              "      <td id=\"T_038b5_row5_col0\" class=\"data row5 col0\" >54</td>\n",
              "      <td id=\"T_038b5_row5_col1\" class=\"data row5 col1\" >1954</td>\n",
              "      <td id=\"T_038b5_row5_col2\" class=\"data row5 col2\" >3.000000</td>\n",
              "      <td id=\"T_038b5_row5_col3\" class=\"data row5 col3\" >Opera</td>\n",
              "      <td id=\"T_038b5_row5_col4\" class=\"data row5 col4\" >23423.003430</td>\n",
              "    </tr>\n",
              "  </tbody>\n",
              "</table>\n"
            ]
          },
          "metadata": {},
          "execution_count": 20
        }
      ]
    }
  ]
}